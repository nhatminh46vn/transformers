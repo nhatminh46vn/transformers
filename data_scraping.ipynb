{
  "nbformat": 4,
  "nbformat_minor": 0,
  "metadata": {
    "colab": {
      "name": "data_scraping.ipynb",
      "provenance": [],
      "collapsed_sections": [],
      "authorship_tag": "ABX9TyOooZ1niVas4PgoKQ+HgaVP",
      "include_colab_link": true
    },
    "kernelspec": {
      "name": "python3",
      "display_name": "Python 3"
    }
  },
  "cells": [
    {
      "cell_type": "markdown",
      "metadata": {
        "id": "view-in-github",
        "colab_type": "text"
      },
      "source": [
        "<a href=\"https://colab.research.google.com/github/nhatminh46vn/transformers/blob/master/data_scraping.ipynb\" target=\"_parent\"><img src=\"https://colab.research.google.com/assets/colab-badge.svg\" alt=\"Open In Colab\"/></a>"
      ]
    },
    {
      "cell_type": "code",
      "metadata": {
        "id": "ZUDKTY8U6tge"
      },
      "source": [
        ""
      ],
      "execution_count": null,
      "outputs": []
    },
    {
      "cell_type": "markdown",
      "metadata": {
        "id": "7rg93Yjr7qXf"
      },
      "source": [
        "## **structure of URL **\r\n",
        "\r\n",
        "Page 1 : https://www.coursera.org/learn/inferential-statistical-analysis-python/reviews\r\n",
        "\r\n",
        "Page 2 : https://www.coursera.org/learn/inferential-statistical-analysis-python/reviews?page=2\r\n",
        "\r\n",
        "Page 10 : https://www.coursera.org/learn/inferential-statistical-analysis-python/reviews?page=10\r\n",
        "\r\n",
        "Question : When to stop ? if we dont know the last page n = ??\r\n",
        "store in in CSV for cleaning or then uploaded to SQL then python request for cleaning ???? \r\n",
        "if it's a dynamic plaform ???\r\n",
        "request with time if not will dammage the website \r\n",
        "extract only rating star in separate column ? \r\n",
        "we need to scapping the feed back as much as possible in different subject ( statistic/Python/SQL/...)\r\n"
      ]
    },
    {
      "cell_type": "code",
      "metadata": {
        "id": "erGliyMw6-MB"
      },
      "source": [
        "#importation of beautifulSoup \r\n",
        "from bs4 import BeautifulSoup\r\n",
        "import requests\r\n",
        "\r\n",
        "URL = 'https://www.coursera.org/learn/inferential-statistical-analysis-python/reviews'  \r\n",
        "page = requests.get(URL)     \r\n",
        "# Html parsing                                                         \r\n",
        "soup = BeautifulSoup(page.content, 'html.parser')                                   \r\n",
        " # print the resquest page with function Prettify\r\n",
        "print(soup.prettify())                                                     \r\n"
      ],
      "execution_count": null,
      "outputs": []
    },
    {
      "cell_type": "code",
      "metadata": {
        "id": "i8VG7KS-8Rv5"
      },
      "source": [
        "#print title of the page\r\n",
        "title=soup.title  #print title \r\n",
        "print(title.text) #get only text "
      ],
      "execution_count": null,
      "outputs": []
    },
    {
      "cell_type": "code",
      "metadata": {
        "id": "h8IXK7M-8V3J"
      },
      "source": [
        "#print example 1 reveiwText / in python class is a function , then in Beautifulsoup will be class_\r\n",
        "reviewText=soup.find('div',class_='reviewText')\r\n",
        "print(reviewText)"
      ],
      "execution_count": null,
      "outputs": []
    },
    {
      "cell_type": "code",
      "metadata": {
        "id": "hKfuSQDM8YY2"
      },
      "source": [
        "#clean somes codes to take only text.  p  stands for paragraph. \r\n",
        "match=reviewText.p.text\r\n",
        "print(match)"
      ],
      "execution_count": null,
      "outputs": []
    },
    {
      "cell_type": "code",
      "metadata": {
        "id": "ez9RZkE98atm"
      },
      "source": [
        "#find all the reviewtext and cleaning the other code    #How to separate the text and save it in \r\n",
        "for  reviewText in soup.find_all('div',class_='reviewText'):\r\n",
        "    match=reviewText.p                 ##add .text will have only \r\n",
        "    print(match)"
      ],
      "execution_count": null,
      "outputs": []
    },
    {
      "cell_type": "code",
      "metadata": {
        "id": "d4dEMPCt8cGa"
      },
      "source": [
        ""
      ],
      "execution_count": null,
      "outputs": []
    }
  ]
}